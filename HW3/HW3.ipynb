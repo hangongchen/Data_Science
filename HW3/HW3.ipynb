{
 "cells": [
  {
   "cell_type": "code",
   "execution_count": 19,
   "metadata": {
    "collapsed": true,
    "ExecuteTime": {
     "end_time": "2024-12-01T20:27:08.705629Z",
     "start_time": "2024-12-01T20:27:08.698044Z"
    }
   },
   "outputs": [],
   "source": [
    "import pandas as pd\n",
    "import numpy as np\n",
    "import os\n",
    "from PIL import Image\n"
   ]
  },
  {
   "cell_type": "code",
   "execution_count": 20,
   "outputs": [],
   "source": [
    "folder = 'ATT'\n",
    "file_list = [f for f in os.listdir(folder) if f.endswith('.jpg') or f.endswith('.png')]\n",
    "df = pd.DataFrame(file_list, columns=['filename'])"
   ],
   "metadata": {
    "collapsed": false,
    "ExecuteTime": {
     "end_time": "2024-12-01T20:27:08.725972Z",
     "start_time": "2024-12-01T20:27:08.706322Z"
    }
   }
  },
  {
   "cell_type": "code",
   "execution_count": 21,
   "outputs": [],
   "source": [
    "def PCA(images):\n",
    "    mean_image = np.mean(images, axis=0)\n",
    "    centered_images = images - mean_image\n",
    "    n_samples = centered_images.shape[0]\n",
    "    covariance_matrix = np.dot(centered_images.T, centered_images) / (n_samples - 1)\n",
    "    eigenvalues, eigenvectors = np.linalg.eig(covariance_matrix)\n",
    "    idx = np.argsort(eigenvalues)[::-1]\n",
    "    sorted_eigenvectors = eigenvectors[:, idx]\n",
    "    principal_components = sorted_eigenvectors[:, :60]\n",
    "    reduced_images = np.dot(centered_images, principal_components)\n",
    "    return reduced_images"
   ],
   "metadata": {
    "collapsed": false,
    "ExecuteTime": {
     "end_time": "2024-12-01T20:27:08.733157Z",
     "start_time": "2024-12-01T20:27:08.728981Z"
    }
   }
  },
  {
   "cell_type": "code",
   "execution_count": 22,
   "outputs": [],
   "source": [
    "def read_image(file_name):\n",
    "    img_path = os.path.join(folder, file_name)\n",
    "    img = Image.open(img_path).convert('L')\n",
    "    img_array = np.array(img)\n",
    "    return img_array\n",
    "\n",
    "df['image_array'] = df['filename'].apply(read_image)\n",
    "df['flatten_array'] = df['image_array'].apply(lambda x: x.flatten())"
   ],
   "metadata": {
    "collapsed": false,
    "ExecuteTime": {
     "end_time": "2024-12-01T20:27:08.924080Z",
     "start_time": "2024-12-01T20:27:08.740158Z"
    }
   }
  },
  {
   "cell_type": "code",
   "execution_count": 23,
   "outputs": [],
   "source": [
    "img_data = df['flatten_array'].tolist()\n",
    "labels = df['filename'].tolist()"
   ],
   "metadata": {
    "collapsed": false,
    "ExecuteTime": {
     "end_time": "2024-12-01T20:27:08.930093Z",
     "start_time": "2024-12-01T20:27:08.926148Z"
    }
   }
  },
  {
   "cell_type": "code",
   "execution_count": 24,
   "outputs": [],
   "source": [
    "from sklearn.preprocessing import StandardScaler\n",
    "scaler = StandardScaler()\n",
    "img_data = scaler.fit_transform(img_data)"
   ],
   "metadata": {
    "collapsed": false,
    "ExecuteTime": {
     "end_time": "2024-12-01T20:27:08.985808Z",
     "start_time": "2024-12-01T20:27:08.931810Z"
    }
   }
  },
  {
   "cell_type": "code",
   "execution_count": 25,
   "outputs": [],
   "source": [
    "def KNN(prior_data,prior_labels,input_data):\n",
    "    distance=[]\n",
    "    for data in prior_data:\n",
    "        difference=data-input_data\n",
    "        distance.append(np.linalg.norm(difference, axis=0))\n",
    "    tmp=1000000\n",
    "    index=0\n",
    "    for i,d in enumerate(distance):\n",
    "        if d<tmp:\n",
    "            index=i\n",
    "            tmp=d\n",
    "    return prior_labels[index]"
   ],
   "metadata": {
    "collapsed": false,
    "ExecuteTime": {
     "end_time": "2024-12-01T20:27:08.989664Z",
     "start_time": "2024-12-01T20:27:08.987082Z"
    }
   }
  },
  {
   "cell_type": "code",
   "execution_count": 26,
   "outputs": [],
   "source": [
    "def calcu_accuracy(list1, list2):\n",
    "    total = len(list1)\n",
    "    matches = 0\n",
    "    for s1, s2 in zip(list1, list2):\n",
    "        prefix1 = s1.split('_')[0]\n",
    "        prefix2 = s2.split('_')[0]\n",
    "        if prefix1 == prefix2:\n",
    "            matches += 1\n",
    "    return matches / total"
   ],
   "metadata": {
    "collapsed": false,
    "ExecuteTime": {
     "end_time": "2024-12-01T20:27:08.994471Z",
     "start_time": "2024-12-01T20:27:08.989907Z"
    }
   }
  },
  {
   "cell_type": "code",
   "execution_count": 27,
   "outputs": [
    {
     "name": "stdout",
     "output_type": "stream",
     "text": [
      "average accuracy without PCA: 0.9199999999999999\n"
     ]
    }
   ],
   "source": [
    "unit=int(len(img_data)/5)\n",
    "accurcy=0\n",
    "for i in range(5):\n",
    "    output=[]\n",
    "    for input_data in img_data[unit*i:unit*(i+1)]:\n",
    "        train_data = np.concatenate((img_data[:unit*i], img_data[unit*(i+1):]), axis=0)\n",
    "        train_label = np.concatenate((labels[:unit*i], labels[unit*(i+1):]), axis=0)\n",
    "        output.append(KNN(train_data,train_label,input_data))\n",
    "    test_label=labels[unit*i:unit*(i+1)]\n",
    "    accurcy+=calcu_accuracy(test_label,output)\n",
    "print(\"average accuracy without PCA:\",accurcy/5)"
   ],
   "metadata": {
    "collapsed": false,
    "ExecuteTime": {
     "end_time": "2024-12-01T20:27:11.488363Z",
     "start_time": "2024-12-01T20:27:08.996767Z"
    }
   }
  },
  {
   "cell_type": "code",
   "execution_count": 31,
   "outputs": [],
   "source": [
    "img_data = PCA(img_data)"
   ],
   "metadata": {
    "collapsed": false,
    "ExecuteTime": {
     "end_time": "2024-12-01T20:35:59.970743Z",
     "start_time": "2024-12-01T20:35:59.732886Z"
    }
   }
  },
  {
   "cell_type": "code",
   "execution_count": 32,
   "outputs": [
    {
     "name": "stdout",
     "output_type": "stream",
     "text": [
      "average accuracy with PCA: 0.9349999999999999\n"
     ]
    }
   ],
   "source": [
    "unit=int(len(img_data)/5)\n",
    "accurcy=0\n",
    "for i in range(5):\n",
    "    output=[]\n",
    "    for input_data in img_data[unit*i:unit*(i+1)]:\n",
    "        train_data = np.concatenate((img_data[:unit*i], img_data[unit*(i+1):]), axis=0)\n",
    "        train_label = np.concatenate((labels[:unit*i], labels[unit*(i+1):]), axis=0)\n",
    "        output.append(KNN(train_data,train_label,input_data))\n",
    "    test_label=labels[unit*i:unit*(i+1)]\n",
    "    accurcy+=calcu_accuracy(test_label,output)\n",
    "print(\"average accuracy with PCA:\",accurcy/5)"
   ],
   "metadata": {
    "collapsed": false,
    "ExecuteTime": {
     "end_time": "2024-12-01T20:36:14.889658Z",
     "start_time": "2024-12-01T20:36:14.521498Z"
    }
   }
  }
 ],
 "metadata": {
  "kernelspec": {
   "name": "lin",
   "language": "python",
   "display_name": "lin"
  },
  "language_info": {
   "codemirror_mode": {
    "name": "ipython",
    "version": 2
   },
   "file_extension": ".py",
   "mimetype": "text/x-python",
   "name": "python",
   "nbconvert_exporter": "python",
   "pygments_lexer": "ipython2",
   "version": "2.7.6"
  }
 },
 "nbformat": 4,
 "nbformat_minor": 0
}
