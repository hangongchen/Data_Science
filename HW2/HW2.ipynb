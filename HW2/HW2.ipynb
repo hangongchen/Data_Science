{
 "cells": [
  {
   "cell_type": "code",
   "execution_count": 1,
   "metadata": {
    "collapsed": true,
    "ExecuteTime": {
     "end_time": "2024-11-09T20:05:20.248798Z",
     "start_time": "2024-11-09T20:05:18.317192Z"
    }
   },
   "outputs": [],
   "source": [
    "import pandas as pd\n",
    "import numpy as np\n",
    "import os\n",
    "from PIL import Image\n"
   ]
  },
  {
   "cell_type": "code",
   "execution_count": 2,
   "outputs": [],
   "source": [
    "folder = 'ATT'\n",
    "file_list = [f for f in os.listdir(folder) if f.endswith('.jpg') or f.endswith('.png')]\n",
    "df = pd.DataFrame(file_list, columns=['filename'])"
   ],
   "metadata": {
    "collapsed": false,
    "ExecuteTime": {
     "end_time": "2024-11-09T20:05:23.980892Z",
     "start_time": "2024-11-09T20:05:20.251536Z"
    }
   }
  },
  {
   "cell_type": "code",
   "execution_count": 2,
   "outputs": [],
   "source": [],
   "metadata": {
    "collapsed": false,
    "ExecuteTime": {
     "end_time": "2024-11-09T20:05:23.995984Z",
     "start_time": "2024-11-09T20:05:20.253674Z"
    }
   }
  },
  {
   "cell_type": "code",
   "execution_count": 3,
   "outputs": [],
   "source": [
    "def read_image(file_name):\n",
    "    img_path = os.path.join(folder, file_name)\n",
    "    img = Image.open(img_path).convert('L')\n",
    "    img_array = np.array(img)\n",
    "    return img_array\n",
    "\n",
    "df['image_array'] = df['filename'].apply(read_image)\n",
    "df['flatten_array'] = df['image_array'].apply(lambda x: x.flatten())"
   ],
   "metadata": {
    "collapsed": false,
    "ExecuteTime": {
     "end_time": "2024-11-09T20:05:28.716123Z",
     "start_time": "2024-11-09T20:05:20.253881Z"
    }
   }
  },
  {
   "cell_type": "code",
   "execution_count": 4,
   "outputs": [],
   "source": [
    "img_data = df['flatten_array'].tolist()\n",
    "labels = df['filename'].tolist()"
   ],
   "metadata": {
    "collapsed": false,
    "ExecuteTime": {
     "end_time": "2024-11-09T20:05:28.717050Z",
     "start_time": "2024-11-09T20:05:20.254174Z"
    }
   }
  },
  {
   "cell_type": "code",
   "execution_count": 5,
   "outputs": [],
   "source": [
    "from sklearn.preprocessing import StandardScaler\n",
    "scaler = StandardScaler()\n",
    "img_data = scaler.fit_transform(img_data)"
   ],
   "metadata": {
    "collapsed": false,
    "ExecuteTime": {
     "end_time": "2024-11-09T20:05:28.717210Z",
     "start_time": "2024-11-09T20:05:20.254349Z"
    }
   }
  },
  {
   "cell_type": "code",
   "execution_count": 6,
   "outputs": [],
   "source": [
    "def KNN(prior_data,prior_labels,input_data):\n",
    "    distance=[]\n",
    "    for data in prior_data:\n",
    "        difference=data-input_data\n",
    "        distance.append(np.linalg.norm(difference, axis=0))\n",
    "    tmp=1000000\n",
    "    index=0\n",
    "    for i,d in enumerate(distance):\n",
    "        if d<tmp:\n",
    "            index=i\n",
    "            tmp=d\n",
    "    return prior_labels[index]"
   ],
   "metadata": {
    "collapsed": false,
    "ExecuteTime": {
     "end_time": "2024-11-09T20:05:28.717570Z",
     "start_time": "2024-11-09T20:05:20.254396Z"
    }
   }
  },
  {
   "cell_type": "code",
   "execution_count": 7,
   "outputs": [],
   "source": [
    "def calcu_accuracy(list1, list2):\n",
    "    total = len(list1)\n",
    "    matches = 0\n",
    "    for s1, s2 in zip(list1, list2):\n",
    "        prefix1 = s1.split('_')[0]\n",
    "        prefix2 = s2.split('_')[0]\n",
    "        if prefix1 == prefix2:\n",
    "            matches += 1\n",
    "    return matches / total"
   ],
   "metadata": {
    "collapsed": false,
    "ExecuteTime": {
     "end_time": "2024-11-09T20:05:28.717906Z",
     "start_time": "2024-11-09T20:05:20.254546Z"
    }
   }
  },
  {
   "cell_type": "code",
   "execution_count": 8,
   "outputs": [
    {
     "name": "stdout",
     "output_type": "stream",
     "text": [
      "average accuracy: 0.9199999999999999\n"
     ]
    }
   ],
   "source": [
    "unit=int(len(img_data)/5)\n",
    "accurcy=0\n",
    "for i in range(5):\n",
    "    output=[]\n",
    "    for input_data in img_data[unit*i:unit*(i+1)]:\n",
    "        train_data = np.concatenate((img_data[:unit*i], img_data[unit*(i+1):]), axis=0)\n",
    "        train_label = np.concatenate((labels[:unit*i], labels[unit*(i+1):]), axis=0)\n",
    "        output.append(KNN(train_data,train_label,input_data))\n",
    "    test_label=labels[unit*i:unit*(i+1)]\n",
    "    accurcy+=calcu_accuracy(test_label,output)\n",
    "print(\"average accuracy:\",accurcy/5)\n"
   ],
   "metadata": {
    "collapsed": false,
    "ExecuteTime": {
     "end_time": "2024-11-09T20:05:33.738812Z",
     "start_time": "2024-11-09T20:05:20.254585Z"
    }
   }
  }
 ],
 "metadata": {
  "kernelspec": {
   "name": "lin",
   "language": "python",
   "display_name": "lin"
  },
  "language_info": {
   "codemirror_mode": {
    "name": "ipython",
    "version": 2
   },
   "file_extension": ".py",
   "mimetype": "text/x-python",
   "name": "python",
   "nbconvert_exporter": "python",
   "pygments_lexer": "ipython2",
   "version": "2.7.6"
  }
 },
 "nbformat": 4,
 "nbformat_minor": 0
}
